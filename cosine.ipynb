{
 "cells": [
  {
   "cell_type": "code",
   "execution_count": 73,
   "metadata": {},
   "outputs": [],
   "source": [
    "import numpy as np"
   ]
  },
  {
   "cell_type": "code",
   "execution_count": 11,
   "metadata": {},
   "outputs": [
    {
     "name": "stdout",
     "output_type": "stream",
     "text": [
      "3.13808\n"
     ]
    }
   ],
   "source": [
    "counter = 0\n",
    "\n",
    "for x in range(1000000):\n",
    "    a = np.random.uniform(-1,1)\n",
    "    b = np.random.uniform(-1,1)\n",
    "    \n",
    "    if a**2 + b**2 < 1:\n",
    "        counter = counter + 1\n",
    "        \n",
    "fraction = counter / 1000000\n",
    "print(fraction*4)"
   ]
  },
  {
   "cell_type": "code",
   "execution_count": 14,
   "metadata": {},
   "outputs": [
    {
     "name": "stdout",
     "output_type": "stream",
     "text": [
      "25\n"
     ]
    }
   ],
   "source": [
    "def f(x):\n",
    "    y = x**2\n",
    "    \n",
    "    return y\n",
    "\n",
    "print(f(5))"
   ]
  },
  {
   "cell_type": "markdown",
   "metadata": {},
   "source": [
    "_Encapsulation_ is the programming practice of separating out a certain coding routine or recipe into a re-usable script."
   ]
  },
  {
   "cell_type": "code",
   "execution_count": 16,
   "metadata": {},
   "outputs": [
    {
     "name": "stdout",
     "output_type": "stream",
     "text": [
      "3.44\n"
     ]
    }
   ],
   "source": [
    "def estimate_pi(num_steps):\n",
    "    counter = 0\n",
    "\n",
    "    for x in range(num_steps):\n",
    "        a = np.random.uniform(-1,1)\n",
    "        b = np.random.uniform(-1,1)\n",
    "\n",
    "        if a**2 + b**2 < 1:\n",
    "            counter = counter + 1\n",
    "\n",
    "    fraction = counter / num_steps\n",
    "    return fraction*4\n",
    "\n",
    "print(estimate_pi(100))"
   ]
  },
  {
   "cell_type": "code",
   "execution_count": 34,
   "metadata": {},
   "outputs": [
    {
     "name": "stdout",
     "output_type": "stream",
     "text": [
      "4.18248\n"
     ]
    }
   ],
   "source": [
    "def estimate_vol(num_steps):\n",
    "    counter = 0\n",
    "\n",
    "    for x in range(num_steps):\n",
    "        a = np.random.uniform(-1,1)\n",
    "        b = np.random.uniform(-1,1)\n",
    "        c = np.random.uniform(-1,1)\n",
    "\n",
    "        if a**2 + b**2 + c**2 < 1:\n",
    "            counter = counter + 1\n",
    "\n",
    "    fraction = counter / num_steps\n",
    "    return fraction*8\n",
    "\n",
    "print(estimate_vol(100000))"
   ]
  },
  {
   "cell_type": "code",
   "execution_count": 48,
   "metadata": {},
   "outputs": [
    {
     "name": "stdout",
     "output_type": "stream",
     "text": [
      "5.2864\n"
     ]
    }
   ],
   "source": [
    "def estimate_vol_n(num_steps, dim):\n",
    "    counter = 0\n",
    "\n",
    "    for x in range(num_steps):\n",
    "        \n",
    "        sum_of_squares = 0\n",
    "        \n",
    "        for i in range(dim):\n",
    "            a = np.random.uniform(-1,1)\n",
    "        \n",
    "            sum_of_squares = sum_of_squares + a**2\n",
    "            \n",
    "        if sum_of_squares < 1:\n",
    "            counter = counter + 1\n",
    "\n",
    "    fraction = counter / num_steps\n",
    "    return fraction*(2**dim)\n",
    "\n",
    "print(estimate_vol_n(100000, 5))"
   ]
  },
  {
   "cell_type": "markdown",
   "metadata": {},
   "source": [
    "_Recursion_ is the practice of calling a function inside that same function's definition."
   ]
  },
  {
   "cell_type": "code",
   "execution_count": 53,
   "metadata": {},
   "outputs": [
    {
     "name": "stdout",
     "output_type": "stream",
     "text": [
      "n is currently 3\n",
      "n is currently 2\n",
      "n is currently 1\n",
      "n is now zero\n"
     ]
    }
   ],
   "source": [
    "def recursive_example(n):\n",
    "    if n==0:\n",
    "        print(\"n is now zero\")\n",
    "        \n",
    "    else:\n",
    "        print(\"n is currently\", n)\n",
    "        return(recursive_example(n-1))\n",
    "    \n",
    "recursive_example(3)"
   ]
  },
  {
   "cell_type": "code",
   "execution_count": 56,
   "metadata": {},
   "outputs": [
    {
     "name": "stdout",
     "output_type": "stream",
     "text": [
      "8\n"
     ]
    }
   ],
   "source": [
    "def get_fibonacci(n):\n",
    "    \"\"\"\n",
    "    This function returns the n-th Fibonacci number, where n=0 gives 0 and n=1 gives 1\n",
    "    \"\"\"\n",
    "    if n==0:\n",
    "        return 0\n",
    "    \n",
    "    elif n==1:\n",
    "        return 1\n",
    "    \n",
    "    else:\n",
    "        return get_fibonacci(n-1) + get_fibonacci(n-2)\n",
    "\n",
    "print(get_fibonacci(6))"
   ]
  },
  {
   "cell_type": "code",
   "execution_count": 57,
   "metadata": {},
   "outputs": [
    {
     "data": {
      "text/plain": [
       "720"
      ]
     },
     "execution_count": 57,
     "metadata": {},
     "output_type": "execute_result"
    }
   ],
   "source": [
    "def factorial(n):\n",
    "    if n==0:\n",
    "        return 1\n",
    "    else:\n",
    "        return n*factorial(n-1)\n",
    "    \n",
    "factorial(6)"
   ]
  },
  {
   "cell_type": "code",
   "execution_count": 71,
   "metadata": {},
   "outputs": [
    {
     "data": {
      "text/plain": [
       "28.27432445753017"
      ]
     },
     "execution_count": 71,
     "metadata": {},
     "output_type": "execute_result"
    }
   ],
   "source": [
    "def estimate_area(dr, R):\n",
    "    running_area = 0\n",
    "    \n",
    "    for this_r in np.arange(0, R, dr):\n",
    "        this_area = 2*np.pi*this_r*dr\n",
    "        running_area += this_area\n",
    "        \n",
    "    return running_area\n",
    "\n",
    "estimate_area(dr = 0.000001, R = 3)"
   ]
  },
  {
   "cell_type": "code",
   "execution_count": 68,
   "metadata": {},
   "outputs": [
    {
     "name": "stdout",
     "output_type": "stream",
     "text": [
      "28.274333882308138\n"
     ]
    }
   ],
   "source": [
    "actual_area = np.pi*3**2\n",
    "print(actual_area)"
   ]
  },
  {
   "cell_type": "code",
   "execution_count": 82,
   "metadata": {},
   "outputs": [
    {
     "data": {
      "text/plain": [
       "array([-1.00000000e+00, -9.00000000e-01, -8.00000000e-01, -7.00000000e-01,\n",
       "       -6.00000000e-01, -5.00000000e-01, -4.00000000e-01, -3.00000000e-01,\n",
       "       -2.00000000e-01, -1.00000000e-01, -2.22044605e-16,  1.00000000e-01,\n",
       "        2.00000000e-01,  3.00000000e-01,  4.00000000e-01,  5.00000000e-01,\n",
       "        6.00000000e-01,  7.00000000e-01,  8.00000000e-01,  9.00000000e-01])"
      ]
     },
     "execution_count": 82,
     "metadata": {},
     "output_type": "execute_result"
    }
   ],
   "source": [
    "np.arange(-1,1,0.1)"
   ]
  },
  {
   "cell_type": "code",
   "execution_count": 75,
   "metadata": {},
   "outputs": [
    {
     "name": "stdout",
     "output_type": "stream",
     "text": [
      "0.33283350000000034 looks close to 0.3333333333333333\n",
      "0.2495002499999998 looks close to 0.25\n",
      "0.19950033333330006 looks close to 0.2\n",
      "0.16616708333325006 looks close to 0.16666666666666666\n",
      "0.1423576428569762 looks close to 0.14285714285714285\n",
      "0.12450058333304169 looks close to 0.125\n"
     ]
    }
   ],
   "source": [
    "import numpy as np\n",
    "\n",
    "def estimate_area(f, a, b, dx):\n",
    "    counter = 0\n",
    "    \n",
    "    for x in np.arange(a,b,dx):\n",
    "        this_area = f(x)*dx\n",
    "        counter += this_area\n",
    "        \n",
    "    return counter\n",
    "\n",
    "for n in range(2,8):\n",
    "    \n",
    "    def this_monomial(x):\n",
    "        return x**n\n",
    "    \n",
    "    print(estimate_area(this_monomial,0,1,0.001), \"looks close to\", 1/(n+1))"
   ]
  },
  {
   "cell_type": "code",
   "execution_count": 80,
   "metadata": {},
   "outputs": [
    {
     "name": "stdout",
     "output_type": "stream",
     "text": [
      "3.1415914776116542\n"
     ]
    }
   ],
   "source": [
    "def f(x):\n",
    "    return np.sqrt(1 - x**2)\n",
    "\n",
    "my_pi_estimate = 2*estimate_area(f, -1, 1, dx=0.0001)\n",
    "print(my_pi_estimate)"
   ]
  },
  {
   "cell_type": "markdown",
   "metadata": {},
   "source": [
    "Let's review the steps to arrive at an operational definition of $\\cos ( \\theta )$.\n",
    "\n",
    "* Definition of angle. We choose *radian measure*, which means $\\theta = \\frac{\\ell}{r} = \\ell$, since $r=1$ for a unit circle. Therefore, we can always replace $\\theta$ with $\\ell$ and speak about lengths rather than angles.\n",
    "\n",
    "* Next, note that the area of the sector subtended by angle $\\theta = \\ell$ is given by $A = \\frac{\\ell}{2}$.\n",
    "\n",
    "* As a first step, we write a function $A(x)$ which gives the area of the circular sector which intersects a point $(x,y)$ on the unit circle. This function is:\n",
    "\n",
    "$$ A ( x ) = \\frac{x \\sqrt{1 - x^2}}{2} + \\int_x^1 \\sqrt{1 - t^2} \\, dt . $$\n",
    "\n",
    "* Now we need to *invert* the function $A(x)$. That is, we need a function which takes *as input* an area $A(x)$ and as *output* spits out the value $x$ associated with that area. We do this using *bisection search*, which gives us a way of finding the input $y$ so that a function $f(y) = z$ returns a fixed output $z$."
   ]
  },
  {
   "cell_type": "code",
   "execution_count": 126,
   "metadata": {},
   "outputs": [],
   "source": [
    "def estimate_area(f, a, b, dx):\n",
    "    running_area = 0\n",
    "    \n",
    "    for i in np.arange(a, b, dx):\n",
    "        running_area += f(i)*dx\n",
    "        \n",
    "    return running_area\n",
    "\n",
    "def circle_area(t):\n",
    "    return np.sqrt(1-t**2)\n",
    "\n",
    "def A(x):\n",
    "    return (1/2)*x*np.sqrt(1-x**2) + estimate_area(circle_area, x, 1, dx=0.001)"
   ]
  },
  {
   "cell_type": "code",
   "execution_count": 150,
   "metadata": {},
   "outputs": [
    {
     "name": "stdout",
     "output_type": "stream",
     "text": [
      "1.521392822265625\n"
     ]
    }
   ],
   "source": [
    "def does_change_sign(g, a, b):\n",
    "    if g(a)*g(b) < 0:\n",
    "        return True\n",
    "    elif g(a)*g(b) > 0:\n",
    "        return False\n",
    "\n",
    "def bisect(g, a, b, tolerance):\n",
    "    if not does_change_sign(g, a, b):\n",
    "        print(\"The function does not change sign on the interval\")\n",
    "        return\n",
    "    \n",
    "    m=(a+b)/2\n",
    "    \n",
    "    if np.abs(g(m))<tolerance:\n",
    "        return m\n",
    "    \n",
    "    if does_change_sign(g, a, m):\n",
    "        return bisect(g, a, m, tolerance)\n",
    "    \n",
    "    if does_change_sign(g, m, b):\n",
    "        return bisect(g, m, b, tolerance)\n",
    "    \n",
    "def g(x):\n",
    "    return x**3-x-2\n",
    "\n",
    "print(bisect(g, 1, 2, 0.0001))"
   ]
  },
  {
   "cell_type": "markdown",
   "metadata": {},
   "source": [
    "We can write a formula for the area under the semi-circle of radius $R=3$. Doing so, one finds\n",
    "\n",
    "$$ \\int_{-3}^{3} \\sqrt{9 - t^2} \\, dt = \\frac{9 \\pi}{2} $$"
   ]
  },
  {
   "cell_type": "code",
   "execution_count": 154,
   "metadata": {},
   "outputs": [
    {
     "name": "stdout",
     "output_type": "stream",
     "text": [
      "0.0546875\n"
     ]
    }
   ],
   "source": [
    "def our_cosine(ell):\n",
    "    area = ell/2\n",
    "    \n",
    "    def function_to_root(x):\n",
    "        return A(x) - area\n",
    "    \n",
    "    our_root = bisect(function_to_root, -1, 1, 0.001)\n",
    "    \n",
    "    return our_root\n",
    "\n",
    "print(our_cosine(1.51627))"
   ]
  },
  {
   "cell_type": "code",
   "execution_count": 155,
   "metadata": {},
   "outputs": [
    {
     "data": {
      "text/plain": [
       "0.05449931192282796"
      ]
     },
     "execution_count": 155,
     "metadata": {},
     "output_type": "execute_result"
    }
   ],
   "source": [
    "np.cos(1.51627)"
   ]
  },
  {
   "cell_type": "code",
   "execution_count": 156,
   "metadata": {},
   "outputs": [],
   "source": [
    "x = np.linspace(0.001, np.pi - 0.001, 100)\n",
    "outputs = []\n",
    "\n",
    "for i in x:\n",
    "    outputs.append(our_cosine(i))"
   ]
  },
  {
   "cell_type": "code",
   "execution_count": 159,
   "metadata": {},
   "outputs": [
    {
     "data": {
      "text/plain": [
       "[<matplotlib.lines.Line2D at 0x26e8db499e8>]"
      ]
     },
     "execution_count": 159,
     "metadata": {},
     "output_type": "execute_result"
    },
    {
     "data": {
      "image/png": "[encoded data removed]",
      "text/plain": [
       "<Figure size 432x288 with 1 Axes>"
      ]
     },
     "metadata": {
      "needs_background": "light"
     },
     "output_type": "display_data"
    }
   ],
   "source": [
    "import matplotlib.pyplot as plt\n",
    "%matplotlib inline\n",
    "\n",
    "plt.plot(x, outputs)"
   ]
  },
  {
   "cell_type": "code",
   "execution_count": 166,
   "metadata": {},
   "outputs": [
    {
     "name": "stdout",
     "output_type": "stream",
     "text": [
      "1.0038947085765284\n"
     ]
    }
   ],
   "source": [
    "def different_cosine(x):\n",
    "    return np.cos(x)\n",
    "\n",
    "def integral_of_cosine(x):\n",
    "    this_area = estimate_area(different_cosine, 0.001, x, dx = 0.01)\n",
    "    \n",
    "    return this_area\n",
    "\n",
    "print(integral_of_cosine(np.pi / 2 * (0.99)))"
   ]
  },
  {
   "cell_type": "code",
   "execution_count": 167,
   "metadata": {},
   "outputs": [],
   "source": [
    "our_x_values = np.arange(0.01, np.pi - 0.01, 0.01)\n",
    "our_integral_outputs = []\n",
    "\n",
    "for i in our_x_values:\n",
    "    our_integral_outputs.append(integral_of_cosine(i))"
   ]
  },
  {
   "cell_type": "code",
   "execution_count": 169,
   "metadata": {},
   "outputs": [
    {
     "data": {
      "text/plain": [
       "[<matplotlib.lines.Line2D at 0x26e9390e550>]"
      ]
     },
     "execution_count": 169,
     "metadata": {},
     "output_type": "execute_result"
    },
    {
     "data": {
      "image/png": "[encoded data removed]",
      "text/plain": [
       "<Figure size 432x288 with 1 Axes>"
      ]
     },
     "metadata": {
      "needs_background": "light"
     },
     "output_type": "display_data"
    }
   ],
   "source": [
    "plt.plot(our_x_values, our_integral_outputs)"
   ]
  },
  {
   "cell_type": "code",
   "execution_count": 172,
   "metadata": {},
   "outputs": [
    {
     "name": "stdout",
     "output_type": "stream",
     "text": [
      "0.38280751750584047\n"
     ]
    }
   ],
   "source": [
    "def our_sine(x):\n",
    "    return np.sqrt(1 - our_cosine(x)**2)\n",
    "\n",
    "print(our_sine(np.pi/8))"
   ]
  },
  {
   "cell_type": "code",
   "execution_count": 175,
   "metadata": {},
   "outputs": [
    {
     "data": {
      "text/plain": [
       "[<matplotlib.lines.Line2D at 0x26e93de1b70>]"
      ]
     },
     "execution_count": 175,
     "metadata": {},
     "output_type": "execute_result"
    },
    {
     "data": {
      "image/png": "[encoded data removed]",
      "text/plain": [
       "<Figure size 432x288 with 1 Axes>"
      ]
     },
     "metadata": {
      "needs_background": "light"
     },
     "output_type": "display_data"
    }
   ],
   "source": [
    "our_sine_values = []\n",
    "\n",
    "for i in our_x_values:\n",
    "    our_sine_values.append(np.sin(i))\n",
    "    \n",
    "plt.plot(our_x_values, our_sine_values)"
   ]
  },
  {
   "cell_type": "code",
   "execution_count": null,
   "metadata": {},
   "outputs": [],
   "source": []
  }
 ],
 "metadata": {
  "kernelspec": {
   "display_name": "Python 3",
   "language": "python",
   "name": "python3"
  },
  "language_info": {
   "codemirror_mode": {
    "name": "ipython",
    "version": 3
   },
   "file_extension": ".py",
   "mimetype": "text/x-python",
   "name": "python",
   "nbconvert_exporter": "python",
   "pygments_lexer": "ipython3",
   "version": "3.7.3"
  }
 },
 "nbformat": 4,
 "nbformat_minor": 2
}
