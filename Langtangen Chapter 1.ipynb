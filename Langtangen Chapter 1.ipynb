{
 "cells": [
  {
   "cell_type": "markdown",
   "metadata": {},
   "source": [
    "# Langtangen Chapter 1"
   ]
  },
  {
   "cell_type": "markdown",
   "metadata": {},
   "source": [
    "In this notebook, I will be running through the problems and examples in Chapter 1 of Langtangen's book _A Primer on Scientific Programming with Python._"
   ]
  },
  {
   "cell_type": "markdown",
   "metadata": {},
   "source": [
    "Below we will compute the vertical position of a ball thrown vertically upward using the mathematical model given by Newton's second law: \n",
    "$$y(t) = v_0t - \\frac{1}{2}gt^2$$\n",
    "First, let $v_0$ be 5 $m/s$, $g$ be 9.81 $m/s^2$, and we want the height of the ball after .6 seconds."
   ]
  },
  {
   "cell_type": "code",
   "execution_count": 1,
   "metadata": {
    "scrolled": true
   },
   "outputs": [
    {
     "name": "stdout",
     "output_type": "stream",
     "text": [
      "1.2342\n"
     ]
    }
   ],
   "source": [
    "print(5*0.6 - 0.5*9.81*0.6**2)"
   ]
  },
  {
   "cell_type": "markdown",
   "metadata": {},
   "source": [
    "This simple code is simply using Python as a calculator to get an output of a correspoding input of an algebraic equation. Programming is using specific language for a program to use in order to computate a set of instructions the user inputs."
   ]
  },
  {
   "cell_type": "markdown",
   "metadata": {},
   "source": [
    "Now, let $v_0$ be 1 and $t$ be 0.1, the new code is:"
   ]
  },
  {
   "cell_type": "code",
   "execution_count": 3,
   "metadata": {},
   "outputs": [
    {
     "name": "stdout",
     "output_type": "stream",
     "text": [
      "0.050949999999999995\n"
     ]
    }
   ],
   "source": [
    "print(1*0.1 - 0.5*9.81*0.1**2)"
   ]
  },
  {
   "cell_type": "markdown",
   "metadata": {},
   "source": [
    "We can write the same code using variables"
   ]
  },
  {
   "cell_type": "code",
   "execution_count": 60,
   "metadata": {},
   "outputs": [
    {
     "name": "stdout",
     "output_type": "stream",
     "text": [
      "1.2342\n"
     ]
    }
   ],
   "source": [
    "v0 = 5\n",
    "g = 9.81\n",
    "t = 0.6\n",
    "y = v0*t - 0.5*g*t**2\n",
    "print(y)"
   ]
  },
  {
   "cell_type": "markdown",
   "metadata": {},
   "source": [
    "Variables can also have more complex names"
   ]
  },
  {
   "cell_type": "code",
   "execution_count": 10,
   "metadata": {},
   "outputs": [
    {
     "name": "stdout",
     "output_type": "stream",
     "text": [
      "1.2342\n"
     ]
    }
   ],
   "source": [
    "initial_velocity = 5\n",
    "acceleration_of_gravity = 9.81\n",
    "TIME = 0.6\n",
    "VerticalPositionOfBall = initial_velocity*TIME - 0.5*acceleration_of_gravity*TIME**2 \n",
    "print(VerticalPositionOfBall)"
   ]
  },
  {
   "cell_type": "markdown",
   "metadata": {},
   "source": [
    "Adding text with # makes your code more legible"
   ]
  },
  {
   "cell_type": "code",
   "execution_count": 56,
   "metadata": {},
   "outputs": [
    {
     "name": "stdout",
     "output_type": "stream",
     "text": [
      "1.2342\n"
     ]
    }
   ],
   "source": [
    "# Program for computing the height of a ball in vertical motion. \n",
    "v0 = 5 # initial velocity\n",
    "g = 9.81 # acceleration of gravity\n",
    "t = 0.6 # time\n",
    "y = v0*t - 0.5*g*t**2 # vertical position \n",
    "print(y)"
   ]
  },
  {
   "cell_type": "markdown",
   "metadata": {},
   "source": [
    "When assigning a variable, you can reassign it later to update its meaning"
   ]
  },
  {
   "cell_type": "code",
   "execution_count": 16,
   "metadata": {},
   "outputs": [
    {
     "name": "stdout",
     "output_type": "stream",
     "text": [
      "3\n",
      "7\n",
      "49\n"
     ]
    }
   ],
   "source": [
    "y=3 \n",
    "print(y)\n",
    "y=y+4\n",
    "print(y)\n",
    "y = y*y \n",
    "print(y)"
   ]
  },
  {
   "cell_type": "markdown",
   "metadata": {},
   "source": [
    "It's good to use space in you code to make it easier to read, because although this is correct, it is hard to read"
   ]
  },
  {
   "cell_type": "code",
   "execution_count": 61,
   "metadata": {},
   "outputs": [
    {
     "name": "stdout",
     "output_type": "stream",
     "text": [
      "0.034199999999999786\n"
     ]
    }
   ],
   "source": [
    "v0=3;g=9.81;t=0.6;y=v0*t-0.5*g*t**2;print(y)"
   ]
  },
  {
   "cell_type": "markdown",
   "metadata": {},
   "source": [
    "Some code involving simple conversions can be easy to write out"
   ]
  },
  {
   "cell_type": "code",
   "execution_count": 18,
   "metadata": {},
   "outputs": [
    {
     "name": "stdout",
     "output_type": "stream",
     "text": [
      "69.80000000000001\n"
     ]
    }
   ],
   "source": [
    "C = 21\n",
    "F = (9/5)*C + 32\n",
    "print(F)"
   ]
  },
  {
   "cell_type": "markdown",
   "metadata": {},
   "source": [
    "Below are two examples of writing strings of text with multiple types of information"
   ]
  },
  {
   "cell_type": "code",
   "execution_count": 58,
   "metadata": {},
   "outputs": [
    {
     "name": "stdout",
     "output_type": "stream",
     "text": [
      "A text with an integer 2 and a float 2.000000\n"
     ]
    }
   ],
   "source": [
    "print('A text with an integer %d and a float %f' % (2, 2.0))"
   ]
  },
  {
   "cell_type": "code",
   "execution_count": 59,
   "metadata": {},
   "outputs": [
    {
     "name": "stdout",
     "output_type": "stream",
     "text": [
      "A text with an integer 2 and a float 2.000000\n"
     ]
    }
   ],
   "source": [
    " s = 'A text with an integer %d and a float %f' % (2, 2.0) \n",
    "print(s)"
   ]
  },
  {
   "cell_type": "markdown",
   "metadata": {},
   "source": [
    "We can import special modules, like math, to help solve other specific functions."
   ]
  },
  {
   "cell_type": "code",
   "execution_count": 48,
   "metadata": {},
   "outputs": [
    {
     "name": "stdout",
     "output_type": "stream",
     "text": [
      "At t=0.0417064 s and 0.977662 s, the height is 0.2 m.\n"
     ]
    }
   ],
   "source": [
    "v0 = 5\n",
    "g = 9.81\n",
    "yc = 0.2\n",
    "import math\n",
    "t1 = (v0 - math.sqrt(v0**2 - 2*g*yc))/g\n",
    "t2 = (v0 + math.sqrt(v0**2 - 2*g*yc))/g\n",
    "print('At t=%g s and %g s, the height is %g m.' % (t1, t2, yc))"
   ]
  },
  {
   "cell_type": "code",
   "execution_count": 50,
   "metadata": {},
   "outputs": [
    {
     "name": "stdout",
     "output_type": "stream",
     "text": [
      "\n",
      "At t=0.600000 s, a ball with\n",
      "initial velocity v0=5.000E+00 m/s\n",
      "is located at the height 0.03 m. \n"
     ]
    }
   ],
   "source": [
    "print(\"\"\"\n",
    "At t=%f s, a ball with\n",
    "initial velocity v0=%.3E m/s\n",
    "is located at the height %.2f m. \"\"\" % (t, v0, y))"
   ]
  },
  {
   "cell_type": "code",
   "execution_count": 66,
   "metadata": {},
   "outputs": [
    {
     "name": "stdout",
     "output_type": "stream",
     "text": [
      "-0j -2.4492935982947064e-16j -2.4492935982947064e-16j\n"
     ]
    }
   ],
   "source": [
    "from numpy import sinh, exp, e, pi \n",
    "x = 2*pi*1j\n",
    "r1 = sinh(x)\n",
    "r2 = 0.5*(exp(x) - exp(-x))\n",
    "r3 = 0.5*(e**x - e**(-x))\n",
    "print(round(r1,5), r2, r3)"
   ]
  },
  {
   "cell_type": "code",
   "execution_count": 53,
   "metadata": {},
   "outputs": [
    {
     "name": "stdout",
     "output_type": "stream",
     "text": [
      "267.7448940410164369 267.7448940410164369 267.7448940410163232\n"
     ]
    }
   ],
   "source": [
    "print('%.16f %.16f %.16f' % (r1,r2,r3))"
   ]
  },
  {
   "cell_type": "code",
   "execution_count": 55,
   "metadata": {},
   "outputs": [
    {
     "name": "stdout",
     "output_type": "stream",
     "text": [
      "(4.5+3j)\n",
      "(-2+0.5j)\n",
      "(-10.5-3.75j)\n",
      "(-0.25641025641025644+0.28205128205128205j)\n"
     ]
    }
   ],
   "source": [
    "u =2.5+3j \n",
    "v =2\n",
    "w =u+v \n",
    "print(w)\n",
    "a = -2\n",
    "b = 0.5\n",
    "s =a+b*1j\n",
    "print(s)\n",
    "print(s*w) # complex*complex (-10.5-3.75j)\n",
    "print(s/w) # complex/complex (-0.25641025641025639+0.28205128205128205j)"
   ]
  },
  {
   "cell_type": "code",
   "execution_count": null,
   "metadata": {},
   "outputs": [],
   "source": []
  }
 ],
 "metadata": {
  "kernelspec": {
   "display_name": "Python 3",
   "language": "python",
   "name": "python3"
  },
  "language_info": {
   "codemirror_mode": {
    "name": "ipython",
    "version": 3
   },
   "file_extension": ".py",
   "mimetype": "text/x-python",
   "name": "python",
   "nbconvert_exporter": "python",
   "pygments_lexer": "ipython3",
   "version": "3.7.4"
  }
 },
 "nbformat": 4,
 "nbformat_minor": 2
}
